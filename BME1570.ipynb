{
 "cells": [
  {
   "cell_type": "code",
   "execution_count": 2,
   "id": "16f7df45-a0fa-499b-90a1-0dc4827b547c",
   "metadata": {},
   "outputs": [],
   "source": [
    "import torch"
   ]
  },
  {
   "cell_type": "code",
   "execution_count": 4,
   "id": "da3da998-aef0-470d-8d5c-06f2cbdf41da",
   "metadata": {},
   "outputs": [
    {
     "name": "stdout",
     "output_type": "stream",
     "text": [
      "tensor([[0.6137, 0.5958, 0.7862],\n",
      "        [0.5050, 0.6473, 0.6053],\n",
      "        [0.1587, 0.4523, 0.8387],\n",
      "        [0.3615, 0.8038, 0.9405],\n",
      "        [0.0971, 0.9990, 0.5660]])\n"
     ]
    }
   ],
   "source": [
    "x = torch.rand(5, 3)\n",
    "print(x)"
   ]
  }
 ],
 "metadata": {
  "kernelspec": {
   "display_name": "Python 3 (ipykernel)",
   "language": "python",
   "name": "python3"
  },
  "language_info": {
   "codemirror_mode": {
    "name": "ipython",
    "version": 3
   },
   "file_extension": ".py",
   "mimetype": "text/x-python",
   "name": "python",
   "nbconvert_exporter": "python",
   "pygments_lexer": "ipython3",
   "version": "3.12.4"
  }
 },
 "nbformat": 4,
 "nbformat_minor": 5
}
